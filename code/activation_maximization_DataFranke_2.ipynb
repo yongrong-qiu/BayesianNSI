{
 "cells": [
  {
   "cell_type": "markdown",
   "id": "3b2859cb",
   "metadata": {},
   "source": [
    "# Prepare"
   ]
  },
  {
   "cell_type": "code",
   "execution_count": 1,
   "id": "399592f1",
   "metadata": {},
   "outputs": [],
   "source": [
    "import torch\n",
    "import torch.nn as nn\n",
    "import torch.utils.data as Data\n",
    "import torchvision\n",
    "from torch.nn import functional as F\n",
    "from torch.autograd import Variable\n",
    "from sklearn.linear_model import LinearRegression\n",
    "\n",
    "import matplotlib.pyplot as plt\n",
    "from mpl_toolkits.mplot3d import Axes3D\n",
    "from matplotlib import cm\n",
    "import numpy as np\n",
    "import h5py\n",
    "import cv2\n",
    "from scipy.stats import pearsonr\n",
    "import datetime\n",
    "import time\n",
    "import itertools\n",
    "import pickle\n",
    "\n",
    "from VariationalNC.utils import *\n",
    "from VariationalNC.train import *\n",
    "from VariationalNC.Variational_layers import VariationalLinear, VariationalConv2d\n",
    "from VariationalNC.Variational_utils import variational_estimator, ScaleMixtureGaussian\n",
    "import VariationalNC.activation_max_utils as amu\n",
    "\n",
    "# for auto-reloading external modules\n",
    "%load_ext autoreload\n",
    "%autoreload 2\n",
    "\n",
    "# for plot figures\n",
    "#Output matplotlib figure to SVG with text as text, not curves\n",
    "plt.rcParams['svg.fonttype'] = 'none'"
   ]
  },
  {
   "cell_type": "code",
   "execution_count": 2,
   "id": "0c37c24f",
   "metadata": {},
   "outputs": [],
   "source": [
    "class VanillaCNN(nn.Module):\n",
    "    def __init__(self,numoffea=48):\n",
    "        super().__init__()\n",
    "        self.numoffea=numoffea #number of features\n",
    "        self.sizeoffea=22*50 #size of feature\n",
    "        self.numofneuron=161 #number of neurons\n",
    "        #\n",
    "        self.conv1 = nn.Conv2d(2,48,kernel_size=9,stride=1)#24,23*23\n",
    "        stdv = 1. / np.sqrt(1*9*9)\n",
    "        self.conv1.weight.data.uniform_(-stdv, stdv)\n",
    "        self.conv1.bias.data.uniform_(-stdv, stdv)\n",
    "        #\n",
    "        self.conv2=nn.Conv2d(48,self.numoffea,kernel_size=7,stride=1)#48,17*17\n",
    "        stdv = 1. / np.sqrt(48*7*7)\n",
    "        self.conv2.weight.data.uniform_(-stdv, stdv)\n",
    "        self.conv2.bias.data.uniform_(-stdv, stdv)\n",
    "        #\n",
    "        self.fc1 = nn.Linear(self.numoffea*self.sizeoffea, self.numofneuron)\n",
    "        stdv = 1. / np.sqrt(self.numoffea*self.sizeoffea)\n",
    "        self.fc1.weight.data.uniform_(-stdv, stdv)\n",
    "        self.fc1.bias.data.uniform_(-stdv, stdv)\n",
    "    def forward(self, x):\n",
    "        encoded = F.relu(self.conv1(x))#24,23*23\n",
    "        encoded = F.relu(self.conv2(encoded))#48,17*17\n",
    "        encoded = encoded.view(-1,self.numoffea*self.sizeoffea)\n",
    "        encoded = torch.exp(self.fc1(encoded)) #use exp instead of relu\n",
    "        return encoded\n",
    "    \n",
    "@variational_estimator\n",
    "class VariationalCNN(nn.Module):\n",
    "    def __init__(self,numoffea=48,PI=0.5, SIGMA_1=1, SIGMA_2=0.00247875):\n",
    "        super().__init__()\n",
    "        self.numoffea=numoffea #number of features\n",
    "        self.sizeoffea=22*50 #size of feature\n",
    "        self.numofneuron=161 #number of neurons\n",
    "        self.conv1=VariationalConv2d(2,48,kernel_size=(9,9),stride=(1,1),padding=(0,0),PI=PI, SIGMA_1=SIGMA_1, SIGMA_2=SIGMA_2)#24,23*23\n",
    "        self.conv2=VariationalConv2d(48,self.numoffea,kernel_size=(7,7),stride=(1,1),padding=(0,0),PI=PI, SIGMA_1=SIGMA_1, SIGMA_2=SIGMA_2)#48,17*17\n",
    "        self.fc1  =VariationalLinear(self.numoffea*self.sizeoffea,self.numofneuron,PI=PI, SIGMA_1=SIGMA_1, SIGMA_2=SIGMA_2)\n",
    "    def forward(self, x, sampleFlag=False):\n",
    "        encoded = F.relu(self.conv1(x, sampleFlag))#24,23*23\n",
    "        encoded = F.relu(self.conv2(encoded, sampleFlag))#48,17*17\n",
    "        encoded = encoded.view(-1,self.numoffea*self.sizeoffea)\n",
    "        encoded = torch.exp(self.fc1(encoded, sampleFlag)) #use exp instead of relu\n",
    "        return encoded"
   ]
  },
  {
   "cell_type": "code",
   "execution_count": 3,
   "id": "95f81f3b",
   "metadata": {},
   "outputs": [],
   "source": [
    "device=torch.device('cuda:0' if torch.cuda.is_available() else 'cpu')\n",
    "device_cpu=torch.device('cpu')\n",
    "train_std = torch.from_numpy(np.array([0.23363489, 0.24817178])[None,:,None,None]).float()"
   ]
  },
  {
   "cell_type": "code",
   "execution_count": 4,
   "id": "0a85e200",
   "metadata": {},
   "outputs": [],
   "source": [
    "def act_max_pack(\n",
    "    tempmodel, # model\n",
    "    train_std, # torch.tensor, from the training data\n",
    "    unit,         # neuron id\n",
    "    inputseed = 1,  # for input_img\n",
    "    sampleFlag=False, # for variational model\n",
    "    sampleseed=1,     # for variational model\n",
    "    device=device_cpu,    # only test cpu for now\n",
    "):\n",
    "    \"\"\"\n",
    "    Activation max, packed function.\n",
    "    Output: torch.tensor, with a shape of (1, c, h, w), with a std equals to train_std\n",
    "    \"\"\"\n",
    "    tempmodel = tempmodel.to(device)  \n",
    "    for param in tempmodel.parameters():\n",
    "        param.requires_grad = False\n",
    "    tempmodel = tempmodel.eval()\n",
    "    # for param in tempmodel.parameters():\n",
    "    #     print (param)\n",
    "    \n",
    "    # input_img, should have a shape of (1, c, h, w)\n",
    "    torch.manual_seed(inputseed)    # reproducible\n",
    "    input_img = torch.randn(1, 2, 36, 64) * train_std\n",
    "    \n",
    "    # model.fc1\n",
    "    activation_dictionary = {}\n",
    "    layer_name = 'fc1'\n",
    "    tempmodel.fc1.register_forward_hook(amu.layer_hook(activation_dictionary, layer_name))\n",
    "\n",
    "    # config for activation maximization\n",
    "    steps = 100                 # perform 100 iterations\n",
    "    # unit = 95                  # flamingo class of Imagenet\n",
    "    alpha = torch.tensor(10)   # learning rate (step size) \n",
    "    verbose = False              # print activation every step\n",
    "    L2_Decay = True             # enable L2 decay regularizer\n",
    "    Gaussian_Blur = True        # enable Gaussian regularizer\n",
    "    Norm_Crop = True            # enable norm regularizer\n",
    "    Contrib_Crop = True         # enable contribution regularizer\n",
    "    # sampleFlag=False          # for variational model\n",
    "    # sampleseed=4              # for variational model\n",
    "    \n",
    "    output = amu.act_max(network=tempmodel,\n",
    "                input=input_img,\n",
    "                layer_activation=activation_dictionary,\n",
    "                layer_name=layer_name,\n",
    "                unit=unit,\n",
    "                steps=steps,\n",
    "                alpha=alpha,\n",
    "                verbose=verbose,\n",
    "                L2_Decay=L2_Decay,\n",
    "                Gaussian_Blur=Gaussian_Blur,\n",
    "                Norm_Crop=Norm_Crop,\n",
    "                Contrib_Crop=Contrib_Crop,\n",
    "                sampleFlag=sampleFlag,\n",
    "                sampleseed=sampleseed,\n",
    "                )\n",
    "    \n",
    "    # keep the mean and the std consistent with training data (mean is equal to zeros)\n",
    "    # output image has the same shape with the input\n",
    "    output = output - torch.mean(output, dim=(2,3), keepdims=True)\n",
    "    output = output/torch.std(output, dim=(2,3), keepdims=True)*train_std\n",
    "    # print (torch.std(output))\n",
    "    return output\n"
   ]
  },
  {
   "cell_type": "code",
   "execution_count": 5,
   "id": "b780c922",
   "metadata": {},
   "outputs": [],
   "source": [
    "#https://stats.stackexchange.com/questions/65831/permutation-test-comparing-a-single-sample-against-a-mean\n",
    "#https://netneurotools.readthedocs.io/en/latest/_modules/netneurotools/stats.html#permtest_1samp\n",
    "def oneSamp_perm_test(xs, popmean, nmc, randomseed,alternative='two-sided'):\n",
    "    \"\"\"\n",
    "    Generates two-tailed p-value for hypothesis of whether `xs` differs from\n",
    "    `popmean` using permutation tests\n",
    "    \"\"\"\n",
    "    n, k = len(xs), 0\n",
    "    # center `xs` around `popmean` and calculate original mean\n",
    "    zeroed = xs - popmean\n",
    "    true_mean= np.mean(zeroed)\n",
    "    abs_mean = np.abs(true_mean)\n",
    "    for j in range(nmc):\n",
    "        np.random.seed(randomseed+j)\n",
    "        flipped = zeroed * np.random.choice([-1, 1], size=zeroed.shape)  # sign flip\n",
    "        #k += abs_mean <= np.abs(np.mean(flipped))\n",
    "        if alternative=='two-sided':\n",
    "            k += abs_mean <= np.abs(np.mean(flipped))\n",
    "        elif alternative=='greater':\n",
    "            k += true_mean <= np.mean(flipped)\n",
    "        elif alternative=='less':\n",
    "            k += true_mean >= np.mean(flipped)\n",
    "    return k / nmc"
   ]
  },
  {
   "cell_type": "markdown",
   "id": "150468da",
   "metadata": {},
   "source": [
    "# one unit"
   ]
  },
  {
   "cell_type": "code",
   "execution_count": 12,
   "id": "262b5e01",
   "metadata": {},
   "outputs": [
    {
     "name": "stdout",
     "output_type": "stream",
     "text": [
      "outs.shape: (1, 161). Neuron 95 activation: 5.514772891998291\n",
      "Test activation: outs.shape: (1, 161). Neuron 95 activation: 9.366104125976562\n"
     ]
    }
   ],
   "source": [
    "# one model-VanillaCNN, one unit, one inputseed\n",
    "tempmodel= VanillaCNN()   #with regularization\n",
    "tempmodel.load_state_dict(torch.load('./out_2YQ_Franke2021/VanillaCNN_trainnum_4_Franke2021Data_trainN__seed_0.pth'))\n",
    "# tempmodels=['VariationalCNN'] \n",
    "# model_parameters = {'PI': 0.5, 'SIGMA_1': 1, 'SIGMA_2': 0.00247875}\n",
    "# tempmodel = globals()[tempmodels[0]](**model_parameters)\n",
    "# torch.manual_seed(1)    # reproducible\n",
    "# torch.cuda.manual_seed(1)\n",
    "# tempmodel.load_state_dict(torch.load('./out_2YQ_Franke2021/VariationalCNN_trainnum_4_Franke2021Data_trainN__seed_0.pth'))\n",
    "\n",
    "unit = 95\n",
    "inputseed = 1\n",
    "sampleFlag = False\n",
    "sampleseed = 1\n",
    "output = act_max_pack(\n",
    "    tempmodel = tempmodel, # model\n",
    "    train_std = train_std, # torch.tensor, from the training data\n",
    "    unit = unit,             # neuron id\n",
    "    inputseed = inputseed,   # for input_img\n",
    "    sampleFlag = sampleFlag,      # for variational model\n",
    "    sampleseed = sampleseed,      # for variational model\n",
    ")\n",
    "outs = np.log(tempmodel( output ).cpu().data.numpy()) # cancel out the last layer - exp layer\n",
    "print (f'outs.shape: {outs.shape}. Neuron {unit} activation: {outs[0, unit]}')\n",
    "\n",
    "# test activation\n",
    "tempmodel= VanillaCNN()   #with regularization\n",
    "tempmodel.load_state_dict(torch.load('./out_2YQ_Franke2021/VanillaCNN_trainnum_4_Franke2021Data_trainN__seed_5.pth'))\n",
    "tempmodel = tempmodel.to(device_cpu) \n",
    "tempmodel = tempmodel.eval()\n",
    "outs = np.log(tempmodel( output ).cpu().data.numpy()) # cancel out the last layer - exp layer\n",
    "print (f'Test activation: outs.shape: {outs.shape}. Neuron {unit} activation: {outs[0, unit]}')\n",
    "# simple plot\n",
    "# plt.imshow(output.cpu().data.numpy()[0,0])"
   ]
  },
  {
   "cell_type": "code",
   "execution_count": 21,
   "id": "a3171676",
   "metadata": {},
   "outputs": [
    {
     "name": "stdout",
     "output_type": "stream",
     "text": [
      "outs.shape: (1, 161). Neuron 95 activation: 8.139802932739258\n",
      "Test activation: outs.shape: (1, 161). Neuron 95 activation: 11.464073181152344\n"
     ]
    },
    {
     "data": {
      "text/plain": [
       "<matplotlib.image.AxesImage at 0x7f016af562b0>"
      ]
     },
     "execution_count": 21,
     "metadata": {},
     "output_type": "execute_result"
    },
    {
     "data": {
      "image/png": "[encoded data removed]",
      "text/plain": [
       "<Figure size 432x288 with 1 Axes>"
      ]
     },
     "metadata": {
      "needs_background": "light"
     },
     "output_type": "display_data"
    }
   ],
   "source": [
    "# one model-VariationalCNN-sampleFlag=False, one unit, one inputseed\n",
    "# tempmodel= VanillaCNN()   #with regularization\n",
    "# tempmodel.load_state_dict(torch.load('./out_2YQ_Franke2021/VanillaCNN_trainnum_4_Franke2021Data_trainN__seed_0.pth'))\n",
    "tempmodels=['VariationalCNN'] \n",
    "model_parameters = {'PI': 0.5, 'SIGMA_1': 1, 'SIGMA_2': 0.00247875}\n",
    "tempmodel = globals()[tempmodels[0]](**model_parameters)\n",
    "torch.manual_seed(1)    # reproducible\n",
    "torch.cuda.manual_seed(1)\n",
    "tempmodel.load_state_dict(torch.load('./out_2YQ_Franke2021/VariationalCNN_trainnum_4_Franke2021Data_trainN__seed_0.pth'))\n",
    "\n",
    "unit = 95\n",
    "inputseed = 1\n",
    "sampleFlag = False\n",
    "sampleseed = 1\n",
    "output = act_max_pack(\n",
    "    tempmodel = tempmodel, # model\n",
    "    train_std = train_std, # torch.tensor, from the training data\n",
    "    unit = unit,             # neuron id\n",
    "    inputseed = inputseed,   # for input_img\n",
    "    sampleFlag = sampleFlag,      # for variational model\n",
    "    sampleseed = sampleseed,      # for variational model\n",
    ")\n",
    "outs = np.log(tempmodel( output ).cpu().data.numpy()) # cancel out the last layer - exp layer\n",
    "print (f'outs.shape: {outs.shape}. Neuron {unit} activation: {outs[0, unit]}')\n",
    "\n",
    "# test activation\n",
    "tempmodel= VanillaCNN()   #with regularization\n",
    "tempmodel.load_state_dict(torch.load('./out_2YQ_Franke2021/VanillaCNN_trainnum_4_Franke2021Data_trainN__seed_5.pth'))\n",
    "tempmodel = tempmodel.to(device_cpu) \n",
    "tempmodel = tempmodel.eval()\n",
    "outs = np.log(tempmodel( output ).cpu().data.numpy()) # cancel out the last layer - exp layer\n",
    "print (f'Test activation: outs.shape: {outs.shape}. Neuron {unit} activation: {outs[0, unit]}')\n",
    "# simple plot\n",
    "plt.imshow(output.cpu().data.numpy()[0,0])"
   ]
  },
  {
   "cell_type": "markdown",
   "id": "4f5157db",
   "metadata": {},
   "source": [
    "## Variational-sampleFlag=True"
   ]
  },
  {
   "cell_type": "code",
   "execution_count": 32,
   "id": "211b5152",
   "metadata": {},
   "outputs": [
    {
     "name": "stdout",
     "output_type": "stream",
     "text": [
      "tempoutputs.shape: (100, 1, 2, 36, 64)\n"
     ]
    }
   ],
   "source": [
    "# one model-Variational-sampleFlag=True, one unit, one inputseed\n",
    "tempmodels=['VariationalCNN'] \n",
    "model_parameters = {'PI': 0.5, 'SIGMA_1': 1, 'SIGMA_2': 0.00247875}\n",
    "tempmodel = globals()[tempmodels[0]](**model_parameters)\n",
    "torch.manual_seed(1)    # reproducible\n",
    "torch.cuda.manual_seed(1)\n",
    "tempmodel.load_state_dict(torch.load('./out_2YQ_Franke2021/VariationalCNN_trainnum_4_Franke2021Data_trainN__seed_0.pth'))\n",
    "\n",
    "unit = 95\n",
    "inputseed = 1\n",
    "sampleFlag = True\n",
    "sampleseeds = np.arange(100).tolist()\n",
    "tempoutputs = []\n",
    "for ii, sampleseed in enumerate(sampleseeds):\n",
    "    tempoutput = act_max_pack(\n",
    "        tempmodel = tempmodel, # model\n",
    "        train_std = train_std, # torch.tensor, from the training data\n",
    "        unit = unit,             # neuron id\n",
    "        inputseed = inputseed,   # for input_img\n",
    "        sampleFlag = sampleFlag,      # for variational model\n",
    "        sampleseed = sampleseed,      # for variational model\n",
    "    )\n",
    "    tempoutputs.append(tempoutput.cpu().data.numpy())\n",
    "\n",
    "tempoutputs = np.array(tempoutputs)\n",
    "print (f'tempoutputs.shape: {tempoutputs.shape}')"
   ]
  },
  {
   "cell_type": "code",
   "execution_count": 33,
   "id": "271dac8a",
   "metadata": {},
   "outputs": [
    {
     "data": {
      "text/plain": [
       "<matplotlib.image.AxesImage at 0x7f015366e430>"
      ]
     },
     "execution_count": 33,
     "metadata": {},
     "output_type": "execute_result"
    },
    {
     "data": {
      "image/png": "[encoded data removed]",
      "text/plain": [
       "<Figure size 432x288 with 1 Axes>"
      ]
     },
     "metadata": {
      "needs_background": "light"
     },
     "output_type": "display_data"
    }
   ],
   "source": [
    "plt.imshow(np.std(tempoutputs, axis=0, ddof=1)[0,0])"
   ]
  },
  {
   "cell_type": "code",
   "execution_count": 16,
   "id": "d126c6f7",
   "metadata": {},
   "outputs": [
    {
     "name": "stdout",
     "output_type": "stream",
     "text": [
      "(100, 1, 2, 36, 64)\n"
     ]
    },
    {
     "data": {
      "text/plain": [
       "<matplotlib.image.AxesImage at 0x7f645c5dfdf0>"
      ]
     },
     "execution_count": 16,
     "metadata": {},
     "output_type": "execute_result"
    },
    {
     "data": {
      "image/png": "[encoded data removed]",
      "text/plain": [
       "<Figure size 432x288 with 1 Axes>"
      ]
     },
     "metadata": {
      "needs_background": "light"
     },
     "output_type": "display_data"
    }
   ],
   "source": [
    "i=1\n",
    "RF_fl_np=np.load('out_20220423/activation-max-example-neuron95-outputs_seed_'+str(i)+'_vcnn_sampleflag_true_Franke2021.npy')\n",
    "print(RF_fl_np.shape)\n",
    "plt.imshow(np.std(RF_fl_np, axis=0, ddof=1)[0,0])"
   ]
  },
  {
   "cell_type": "code",
   "execution_count": 17,
   "id": "0058556c",
   "metadata": {},
   "outputs": [
    {
     "name": "stdout",
     "output_type": "stream",
     "text": [
      "(100, 1, 2, 36, 64)\n"
     ]
    },
    {
     "data": {
      "text/plain": [
       "<matplotlib.image.AxesImage at 0x7f645c5602e0>"
      ]
     },
     "execution_count": 17,
     "metadata": {},
     "output_type": "execute_result"
    },
    {
     "data": {
      "image/png": "[encoded data removed]",
      "text/plain": [
       "<Figure size 432x288 with 1 Axes>"
      ]
     },
     "metadata": {
      "needs_background": "light"
     },
     "output_type": "display_data"
    }
   ],
   "source": [
    "i=2\n",
    "RF_fl_np=np.load('out_20220423/activation-max-example-neuron95-outputs_seed_'+str(i)+'_vcnn_sampleflag_true_Franke2021.npy')\n",
    "print(RF_fl_np.shape)\n",
    "plt.imshow(np.std(RF_fl_np, axis=0, ddof=1)[0,0])"
   ]
  },
  {
   "cell_type": "code",
   "execution_count": 14,
   "id": "d0a3f507",
   "metadata": {},
   "outputs": [
    {
     "name": "stdout",
     "output_type": "stream",
     "text": [
      "(100, 1, 2, 36, 64)\n"
     ]
    },
    {
     "data": {
      "text/plain": [
       "<matplotlib.image.AxesImage at 0x7f645c691220>"
      ]
     },
     "execution_count": 14,
     "metadata": {},
     "output_type": "execute_result"
    },
    {
     "data": {
      "image/png": "[encoded data removed]",
      "text/plain": [
       "<Figure size 432x288 with 1 Axes>"
      ]
     },
     "metadata": {
      "needs_background": "light"
     },
     "output_type": "display_data"
    }
   ],
   "source": [
    "i=3\n",
    "RF_fl_np=np.load('out_20220423/activation-max-example-neuron95-outputs_seed_'+str(i)+'_vcnn_sampleflag_true_Franke2021.npy')\n",
    "print(RF_fl_np.shape)\n",
    "plt.imshow(np.std(RF_fl_np, axis=0, ddof=1)[0,0])"
   ]
  },
  {
   "cell_type": "code",
   "execution_count": 19,
   "id": "1e65d4ba",
   "metadata": {},
   "outputs": [
    {
     "name": "stdout",
     "output_type": "stream",
     "text": [
      "(100, 1, 2, 36, 64)\n"
     ]
    },
    {
     "data": {
      "text/plain": [
       "<matplotlib.image.AxesImage at 0x7f645c4adcd0>"
      ]
     },
     "execution_count": 19,
     "metadata": {},
     "output_type": "execute_result"
    },
    {
     "data": {
      "image/png": "[encoded data removed]",
      "text/plain": [
       "<Figure size 432x288 with 1 Axes>"
      ]
     },
     "metadata": {
      "needs_background": "light"
     },
     "output_type": "display_data"
    }
   ],
   "source": [
    "i=3\n",
    "RF_fl_np=np.load('out_20220423/trainnum_1_activation-max-example-neuron95-outputs_seed_'+str(i)+'_vcnn_sampleflag_true_Franke2021.npy')\n",
    "print(RF_fl_np.shape)\n",
    "plt.imshow(np.std(RF_fl_np, axis=0, ddof=1)[0,0])"
   ]
  },
  {
   "cell_type": "code",
   "execution_count": 18,
   "id": "724bbb5a",
   "metadata": {},
   "outputs": [
    {
     "name": "stdout",
     "output_type": "stream",
     "text": [
      "(100, 1, 2, 36, 64)\n"
     ]
    },
    {
     "data": {
      "text/plain": [
       "<matplotlib.image.AxesImage at 0x7f645c4c97f0>"
      ]
     },
     "execution_count": 18,
     "metadata": {},
     "output_type": "execute_result"
    },
    {
     "data": {
      "image/png": "[encoded data removed]",
      "text/plain": [
       "<Figure size 432x288 with 1 Axes>"
      ]
     },
     "metadata": {
      "needs_background": "light"
     },
     "output_type": "display_data"
    }
   ],
   "source": [
    "i=2\n",
    "RF_fl_np=np.load('out_20220423/activation-max-example-neuron95-outputs_seed_'+str(i)+'_vcnn_sampleflag_true_Franke2021.npy')\n",
    "print(RF_fl_np.shape)\n",
    "plt.imshow(np.std(RF_fl_np, axis=0, ddof=1)[0,0])"
   ]
  },
  {
   "cell_type": "code",
   "execution_count": 34,
   "id": "9d3afb05",
   "metadata": {},
   "outputs": [
    {
     "data": {
      "text/plain": [
       "<matplotlib.image.AxesImage at 0x7f0153776250>"
      ]
     },
     "execution_count": 34,
     "metadata": {},
     "output_type": "execute_result"
    },
    {
     "data": {
      "image/png": "[encoded data removed]",
      "text/plain": [
       "<Figure size 432x288 with 1 Axes>"
      ]
     },
     "metadata": {
      "needs_background": "light"
     },
     "output_type": "display_data"
    }
   ],
   "source": [
    "plt.imshow(np.mean(tempoutputs, axis=0)[0,0])"
   ]
  },
  {
   "cell_type": "code",
   "execution_count": 36,
   "id": "92118ab5",
   "metadata": {},
   "outputs": [],
   "source": [
    "#np.save('out_20220423/YQactivation-max-outputs-manysamples-VariationalCNN_Franke2021.npy', tempoutputs)"
   ]
  },
  {
   "cell_type": "markdown",
   "id": "647bf7c8",
   "metadata": {},
   "source": [
    "# multiple units"
   ]
  },
  {
   "cell_type": "markdown",
   "id": "dfdcea77",
   "metadata": {},
   "source": [
    "## vanilla"
   ]
  },
  {
   "cell_type": "code",
   "execution_count": 17,
   "id": "9760df48",
   "metadata": {},
   "outputs": [],
   "source": [
    "# one model, all neurons, 5 inputseeds\n",
    "tempmodel= VanillaCNN()   #with regularization\n",
    "tempmodel.load_state_dict(torch.load('./out_2YQ_Franke2021/VanillaCNN_trainnum_4_Franke2021Data_trainN__seed_0.pth'))\n",
    "\n",
    "units = np.arange(161).tolist()\n",
    "inputseeds = np.arange(1,6).tolist()\n",
    "sampleFlag = False\n",
    "sampleseed = 1\n",
    "\n",
    "# test model\n",
    "testmodel= VanillaCNN()   #with regularization\n",
    "testmodel.load_state_dict(torch.load('./out_2YQ_Franke2021/VanillaCNN_trainnum_4_Franke2021Data_trainN__seed_5.pth'))\n",
    "testmodel = testmodel.to(device_cpu) \n",
    "testmodel = testmodel.eval()\n",
    "\n",
    "outputs = [] # numpy array\n",
    "acts = np.ones(len(units)) * (-np.inf)\n",
    "for ii,unit in enumerate(units):\n",
    "    tempoutputs = []\n",
    "    tempacts = np.ones(len(inputseeds)) * (-np.inf)\n",
    "    for jj,inputseed in enumerate(inputseeds):\n",
    "        tempoutput = act_max_pack(\n",
    "            tempmodel = tempmodel, # model\n",
    "            train_std = train_std, # torch.tensor, from the training data\n",
    "            unit = unit,             # neuron id\n",
    "            inputseed = inputseed,   # for input_img\n",
    "            sampleFlag = sampleFlag,      # for variational model\n",
    "            sampleseed = sampleseed,      # for variational model\n",
    "        )\n",
    "        tempoutputs.append(tempoutput)\n",
    "        tempacts[jj] = np.log(tempmodel( tempoutput ).cpu().data.numpy())[0, unit]\n",
    "    # selected the output image with largest activations based on original tempmodel\n",
    "    tempbestoutput = tempoutputs[np.argmax(tempacts)] \n",
    "    outputs.append(tempbestoutput.cpu().data.numpy())\n",
    "    \n",
    "    # test activation\n",
    "    acts[ii] = np.log(testmodel( tempbestoutput ).cpu().data.numpy())[0, unit] # cancel out the last layer - exp layer\n",
    "\n",
    "outputs_rcnn = np.array(outputs)\n",
    "acts_rcnn = np.copy(acts)"
   ]
  },
  {
   "cell_type": "code",
   "execution_count": 20,
   "id": "aeb1388a",
   "metadata": {},
   "outputs": [
    {
     "data": {
      "text/plain": [
       "<matplotlib.image.AxesImage at 0x7f01662e3eb0>"
      ]
     },
     "execution_count": 20,
     "metadata": {},
     "output_type": "execute_result"
    },
    {
     "data": {
      "image/png": "[encoded data removed]",
      "text/plain": [
       "<Figure size 432x288 with 1 Axes>"
      ]
     },
     "metadata": {
      "needs_background": "light"
     },
     "output_type": "display_data"
    }
   ],
   "source": [
    "plt.imshow(outputs_rcnn[95][0,0])"
   ]
  },
  {
   "cell_type": "code",
   "execution_count": 18,
   "id": "5e40d673",
   "metadata": {},
   "outputs": [
    {
     "data": {
      "text/plain": [
       "9.366104125976562"
      ]
     },
     "execution_count": 18,
     "metadata": {},
     "output_type": "execute_result"
    }
   ],
   "source": [
    "acts_rcnn[95]"
   ]
  },
  {
   "cell_type": "code",
   "execution_count": 37,
   "id": "d3f1ab61",
   "metadata": {},
   "outputs": [],
   "source": [
    "#np.save('out_20220423/YQactivation-max-many-neurons-outputs_rcnn_Franke2021.npy', outputs_rcnn)\n",
    "#np.save('out_20220423/YQactivation-max-many-neurons-acts_rcnn_Franke2021.npy', acts_rcnn)"
   ]
  },
  {
   "cell_type": "markdown",
   "id": "93e1f3c9",
   "metadata": {},
   "source": [
    "## variation-sampleFlag=False"
   ]
  },
  {
   "cell_type": "code",
   "execution_count": 22,
   "id": "8a2f97d3",
   "metadata": {},
   "outputs": [],
   "source": [
    "# one model-variation-sampleFlag=False, all neurons, 5 inputseeds\n",
    "tempmodels=['VariationalCNN'] \n",
    "model_parameters = {'PI': 0.5, 'SIGMA_1': 1, 'SIGMA_2': 0.00247875}\n",
    "tempmodel = globals()[tempmodels[0]](**model_parameters)\n",
    "torch.manual_seed(1)    # reproducible\n",
    "torch.cuda.manual_seed(1)\n",
    "tempmodel.load_state_dict(torch.load('./out_2YQ_Franke2021/VariationalCNN_trainnum_4_Franke2021Data_trainN__seed_0.pth'))\n",
    "\n",
    "units = np.arange(161).tolist()\n",
    "inputseeds = np.arange(1,6).tolist()\n",
    "sampleFlag = False\n",
    "sampleseed = 1\n",
    "\n",
    "# test model\n",
    "testmodel= VanillaCNN()   #with regularization\n",
    "testmodel.load_state_dict(torch.load('./out_2YQ_Franke2021/VanillaCNN_trainnum_4_Franke2021Data_trainN__seed_5.pth'))\n",
    "testmodel = testmodel.to(device_cpu) \n",
    "testmodel = testmodel.eval()\n",
    "\n",
    "outputs = [] # numpy array\n",
    "acts = np.ones(len(units)) * (-np.inf)\n",
    "for ii,unit in enumerate(units):\n",
    "    tempoutputs = []\n",
    "    tempacts = np.ones(len(inputseeds)) * (-np.inf)\n",
    "    for jj,inputseed in enumerate(inputseeds):\n",
    "        tempoutput = act_max_pack(\n",
    "            tempmodel = tempmodel, # model\n",
    "            train_std = train_std, # torch.tensor, from the training data\n",
    "            unit = unit,             # neuron id\n",
    "            inputseed = inputseed,   # for input_img\n",
    "            sampleFlag = sampleFlag,      # for variational model\n",
    "            sampleseed = sampleseed,      # for variational model\n",
    "        )\n",
    "        tempoutputs.append(tempoutput)\n",
    "        tempacts[jj] = np.log(tempmodel( tempoutput ).cpu().data.numpy())[0, unit]\n",
    "    # selected the output image with largest activations based on original tempmodel\n",
    "    tempbestoutput = tempoutputs[np.argmax(tempacts)] \n",
    "    outputs.append(tempbestoutput.cpu().data.numpy())\n",
    "    \n",
    "    # test activation\n",
    "    acts[ii] = np.log(testmodel( tempbestoutput ).cpu().data.numpy())[0, unit] # cancel out the last layer - exp layer\n",
    "\n",
    "outputs_vcnn = np.array(outputs)\n",
    "acts_vcnn = np.copy(acts)"
   ]
  },
  {
   "cell_type": "code",
   "execution_count": 23,
   "id": "62e8cdfa",
   "metadata": {},
   "outputs": [
    {
     "data": {
      "text/plain": [
       "<matplotlib.image.AxesImage at 0x7f0158635520>"
      ]
     },
     "execution_count": 23,
     "metadata": {},
     "output_type": "execute_result"
    },
    {
     "data": {
      "image/png": "[encoded data removed]",
      "text/plain": [
       "<Figure size 432x288 with 1 Axes>"
      ]
     },
     "metadata": {
      "needs_background": "light"
     },
     "output_type": "display_data"
    }
   ],
   "source": [
    "plt.imshow(outputs_vcnn[95][0,0])"
   ]
  },
  {
   "cell_type": "markdown",
   "id": "845e9ed5",
   "metadata": {},
   "source": [
    "# try"
   ]
  },
  {
   "cell_type": "markdown",
   "id": "24962910",
   "metadata": {},
   "source": [
    "### plosCBrebuttal"
   ]
  },
  {
   "cell_type": "markdown",
   "id": "5c1b6430",
   "metadata": {},
   "source": [
    "#### plot 6 neuon "
   ]
  },
  {
   "cell_type": "code",
   "execution_count": 8,
   "id": "4819def6",
   "metadata": {},
   "outputs": [],
   "source": [
    "tempact95=np.load('out_20220423/MEIinput_activation-neuron95.npy')\n",
    "tempact123=np.load('out_20220423/MEIinput_activation-neuron123.npy')\n",
    "tempact106=np.load('out_20220423/MEIinput_activation-neuron106.npy')\n",
    "tempact61=np.load('out_20220423/MEIinput_activation-neuron61.npy')\n",
    "tempact52=np.load('out_20220423/MEIinput_activation-neuron52.npy')\n",
    "tempact101=np.load('out_20220423/MEIinput_activation-neuron101.npy')"
   ]
  },
  {
   "cell_type": "code",
   "execution_count": 9,
   "id": "14c6480e",
   "metadata": {},
   "outputs": [
    {
     "name": "stdout",
     "output_type": "stream",
     "text": [
      "(100, 1, 161)\n"
     ]
    }
   ],
   "source": [
    "print(tempact95.shape)"
   ]
  },
  {
   "cell_type": "code",
   "execution_count": 26,
   "id": "804ac609",
   "metadata": {},
   "outputs": [
    {
     "data": {
      "image/png": "[encoded data removed]",
      "text/plain": [
       "<Figure size 864x144 with 6 Axes>"
      ]
     },
     "metadata": {
      "needs_background": "light"
     },
     "output_type": "display_data"
    }
   ],
   "source": [
    "fig, axes = plt.subplots(nrows=1, ncols=6,figsize=(12,2))\n",
    "\n",
    "weights = np.ones_like(tempact95[:,:,95].flatten())/float(len(tempact95[:,:,95].flatten()))\n",
    "vmin, vmax = -6,8 #np.min(signal_cor_values), np.max(signal_cor_values)\n",
    "axes[0].hist(tempact95[:,:,95].flatten(), bins=30,edgecolor='g', histtype='step', \n",
    "          range=[vmin,vmax], weights=weights,fill=False)\n",
    "axes[0].hist(tempact123[:,:,95].flatten(), bins=30,edgecolor='gray', histtype='step', \n",
    "          range=[vmin,vmax], weights=weights,fill=False)\n",
    "axes[0].hist(tempact106[:,:,95].flatten(), bins=30,edgecolor='gray', histtype='step', \n",
    "          range=[vmin,vmax], weights=weights,fill=False)\n",
    "axes[0].hist(tempact61[:,:,95].flatten(), bins=30,edgecolor='gray', histtype='step', \n",
    "          range=[vmin,vmax], weights=weights,fill=False)\n",
    "axes[0].hist(tempact52[:,:,95].flatten(), bins=30,edgecolor='gray', histtype='step', \n",
    "          range=[vmin,vmax], weights=weights,fill=False)\n",
    "axes[0].hist(tempact101[:,:,95].flatten(), bins=30,edgecolor='gray', histtype='step', \n",
    "          range=[vmin,vmax], weights=weights,fill=False)\n",
    "axes[0].set_xlabel('Activation')\n",
    "axes[0].set_ylabel('Proba.')\n",
    "axes[0].set_xlim(-6,8)\n",
    "axes[0].set_xticks([-6,1,8])\n",
    "axes[0].set_ylim(0,0.3)\n",
    "axes[0].set_yticks([0,0.15,0.3])\n",
    "axes[0].set_title('Neuron 1') \n",
    "adjust_spines(axes[0], ['left', 'bottom'])\n",
    "\n",
    "\n",
    "weights = np.ones_like(tempact123[:,:,123].flatten())/float(len(tempact123[:,:,123].flatten()))\n",
    "vmin, vmax = -5,10 #np.min(signal_cor_values), np.max(signal_cor_values)\n",
    "axes[1].hist(tempact123[:,:,123].flatten(), bins=30,edgecolor='g', histtype='step', \n",
    "          range=[vmin,vmax], weights=weights,fill=False)\n",
    "axes[1].hist(tempact95[:,:,123].flatten(), bins=30,edgecolor='gray', histtype='step', \n",
    "          range=[vmin,vmax], weights=weights,fill=False)\n",
    "axes[1].hist(tempact106[:,:,123].flatten(), bins=30,edgecolor='gray', histtype='step', \n",
    "          range=[vmin,vmax], weights=weights,fill=False)\n",
    "axes[1].hist(tempact61[:,:,123].flatten(), bins=30,edgecolor='gray', histtype='step', \n",
    "          range=[vmin,vmax], weights=weights,fill=False)\n",
    "axes[1].hist(tempact52[:,:,123].flatten(), bins=30,edgecolor='gray', histtype='step', \n",
    "          range=[vmin,vmax], weights=weights,fill=False)\n",
    "axes[1].hist(tempact101[:,:,123].flatten(), bins=30,edgecolor='gray', histtype='step', \n",
    "          range=[vmin,vmax], weights=weights,fill=False)\n",
    "axes[1].set_xlabel('Activation')\n",
    "axes[1].set_ylabel('Proba.')\n",
    "axes[1].set_xlim(-5,10)\n",
    "axes[1].set_xticks([-5,2.5,10])\n",
    "axes[1].set_ylim(0,0.3)\n",
    "axes[1].set_yticks([0,0.15,0.3])\n",
    "axes[1].set_title('Neuron 2') \n",
    "adjust_spines(axes[1], ['left', 'bottom'])\n",
    "\n",
    "\n",
    "\n",
    "weights = np.ones_like(tempact106[:,:,106].flatten())/float(len(tempact106[:,:,106].flatten()))\n",
    "vmin, vmax = -5,6 #np.min(signal_cor_values), np.max(signal_cor_values)\n",
    "axes[2].hist(tempact106[:,:,106].flatten(), bins=30,edgecolor='g', histtype='step', \n",
    "          range=[vmin,vmax], weights=weights,fill=False)\n",
    "axes[2].hist(tempact95[:,:,106].flatten(), bins=30,edgecolor='gray', histtype='step', \n",
    "          range=[vmin,vmax], weights=weights,fill=False)\n",
    "axes[2].hist(tempact123[:,:,106].flatten(), bins=30,edgecolor='gray', histtype='step', \n",
    "          range=[vmin,vmax], weights=weights,fill=False)\n",
    "axes[2].hist(tempact61[:,:,106].flatten(), bins=30,edgecolor='gray', histtype='step', \n",
    "          range=[vmin,vmax], weights=weights,fill=False)\n",
    "axes[2].hist(tempact52[:,:,106].flatten(), bins=30,edgecolor='gray', histtype='step', \n",
    "          range=[vmin,vmax], weights=weights,fill=False)\n",
    "axes[2].hist(tempact101[:,:,106].flatten(), bins=30,edgecolor='gray', histtype='step', \n",
    "          range=[vmin,vmax], weights=weights,fill=False)\n",
    "axes[2].set_ylabel('Proba.')\n",
    "axes[2].set_xlim(-5,6)\n",
    "axes[2].set_xticks([-5,0.5,6])\n",
    "axes[2].set_ylim(0,0.3)\n",
    "axes[2].set_yticks([0,0.15,0.3])\n",
    "axes[2].set_title('Neuron 3') \n",
    "adjust_spines(axes[2], ['left', 'bottom'])\n",
    "\n",
    "\n",
    "weights = np.ones_like(tempact61[:,:,61].flatten())/float(len(tempact61[:,:,61].flatten()))\n",
    "vmin, vmax = -6,6 #np.min(signal_cor_values), np.max(signal_cor_values)\n",
    "axes[3].hist(tempact61[:,:,61].flatten(), bins=30,edgecolor='g', histtype='step', \n",
    "          range=[vmin,vmax], weights=weights,fill=False)\n",
    "axes[3].hist(tempact95[:,:,61].flatten(), bins=30,edgecolor='gray', histtype='step', \n",
    "          range=[vmin,vmax], weights=weights,fill=False)\n",
    "axes[3].hist(tempact123[:,:,61].flatten(), bins=30,edgecolor='gray', histtype='step', \n",
    "          range=[vmin,vmax], weights=weights,fill=False)\n",
    "axes[3].hist(tempact106[:,:,61].flatten(), bins=30,edgecolor='gray', histtype='step', \n",
    "          range=[vmin,vmax], weights=weights,fill=False)\n",
    "axes[3].hist(tempact52[:,:,61].flatten(), bins=30,edgecolor='gray', histtype='step', \n",
    "          range=[vmin,vmax], weights=weights,fill=False)\n",
    "axes[3].hist(tempact101[:,:,61].flatten(), bins=30,edgecolor='gray', histtype='step', \n",
    "          range=[vmin,vmax], weights=weights,fill=False)\n",
    "axes[3].set_xlabel('Activation')\n",
    "axes[3].set_ylabel('Proba.')\n",
    "axes[3].set_xlim(-6,6)\n",
    "axes[3].set_xticks([-6,0,6])\n",
    "axes[3].set_ylim(0,0.3)\n",
    "axes[3].set_yticks([0,0.15,0.3])\n",
    "axes[3].set_title('Neuron 4') \n",
    "adjust_spines(axes[3], ['left', 'bottom'])\n",
    "\n",
    "\n",
    "\n",
    "weights = np.ones_like(tempact52[:,:,52].flatten())/float(len(tempact52[:,:,52].flatten()))\n",
    "vmin, vmax = -6,9 #np.min(signal_cor_values), np.max(signal_cor_values)\n",
    "axes[4].hist(tempact52[:,:,52].flatten(), bins=30,edgecolor='g', histtype='step', \n",
    "          range=[vmin,vmax], weights=weights,fill=False)\n",
    "axes[4].hist(tempact95[:,:,52].flatten(), bins=30,edgecolor='gray', histtype='step', \n",
    "          range=[vmin,vmax], weights=weights,fill=False)\n",
    "axes[4].hist(tempact123[:,:,52].flatten(), bins=30,edgecolor='gray', histtype='step', \n",
    "          range=[vmin,vmax], weights=weights,fill=False)\n",
    "axes[4].hist(tempact106[:,:,52].flatten(), bins=30,edgecolor='gray', histtype='step', \n",
    "          range=[vmin,vmax], weights=weights,fill=False)\n",
    "axes[4].hist(tempact61[:,:,52].flatten(), bins=30,edgecolor='gray', histtype='step', \n",
    "          range=[vmin,vmax], weights=weights,fill=False)\n",
    "axes[4].hist(tempact101[:,:,52].flatten(), bins=30,edgecolor='gray', histtype='step', \n",
    "          range=[vmin,vmax], weights=weights,fill=False)\n",
    "axes[4].set_xlabel('Activation')\n",
    "axes[4].set_ylabel('Proba.')\n",
    "axes[4].set_xlim(-6,9)\n",
    "axes[4].set_xticks([-6,1.5,9])\n",
    "axes[4].set_ylim(0,0.3)\n",
    "axes[4].set_yticks([0,0.15,0.3])\n",
    "axes[4].set_title('Neuron 5') \n",
    "adjust_spines(axes[4], ['left', 'bottom'])\n",
    "\n",
    "\n",
    "weights = np.ones_like(tempact101[:,:,101].flatten())/float(len(tempact101[:,:,101].flatten()))\n",
    "vmin, vmax = -6,7 #np.min(signal_cor_values), np.max(signal_cor_values)\n",
    "axes[5].hist(tempact101[:,:,101].flatten(), bins=30,edgecolor='g', histtype='step', \n",
    "          range=[vmin,vmax], weights=weights,fill=False)\n",
    "axes[5].hist(tempact95[:,:,101].flatten(), bins=30,edgecolor='gray', histtype='step', \n",
    "          range=[vmin,vmax], weights=weights,fill=False)\n",
    "axes[5].hist(tempact123[:,:,101].flatten(), bins=30,edgecolor='gray', histtype='step', \n",
    "          range=[vmin,vmax], weights=weights,fill=False)\n",
    "axes[5].hist(tempact106[:,:,101].flatten(), bins=30,edgecolor='gray', histtype='step', \n",
    "          range=[vmin,vmax], weights=weights,fill=False)\n",
    "axes[5].hist(tempact61[:,:,101].flatten(), bins=30,edgecolor='gray', histtype='step', \n",
    "          range=[vmin,vmax], weights=weights,fill=False)\n",
    "axes[5].hist(tempact52[:,:,101].flatten(), bins=30,edgecolor='gray', histtype='step', \n",
    "          range=[vmin,vmax], weights=weights,fill=False)\n",
    "axes[5].set_xlabel('Activation')\n",
    "axes[5].set_ylabel('Proba.')\n",
    "axes[5].set_xlim(-6,7)\n",
    "axes[5].set_xticks([-6,0.5,7])\n",
    "axes[5].set_ylim(0,0.3)\n",
    "axes[5].set_yticks([0,0.15,0.3])\n",
    "axes[5].set_title('Neuron 6') \n",
    "adjust_spines(axes[5], ['left', 'bottom'])\n",
    "\n",
    "\n",
    "#fig.savefig('out_result_20220423/try_3.svg')"
   ]
  },
  {
   "cell_type": "markdown",
   "id": "9fe9a7b4",
   "metadata": {},
   "source": [
    "#### choose the neurons with response CC>0.5"
   ]
  },
  {
   "cell_type": "code",
   "execution_count": 6,
   "id": "0fa47742",
   "metadata": {},
   "outputs": [
    {
     "name": "stdout",
     "output_type": "stream",
     "text": [
      "(1, 2, 36, 64)\n"
     ]
    }
   ],
   "source": [
    "with open('Data_Franke_et_al_2021/static25311-10-26-meis_neuron_good_ind2.pkl', 'rb') as ff:\n",
    "    meis_neuron_good_ind2 = pickle.load(ff)\n",
    "\n",
    "print(meis_neuron_good_ind2[str(95)].shape)"
   ]
  },
  {
   "cell_type": "code",
   "execution_count": 7,
   "id": "505c389c",
   "metadata": {},
   "outputs": [
    {
     "name": "stdout",
     "output_type": "stream",
     "text": [
      "['13', '22', '26', '27', '29', '30', '44', '47', '62', '75', '79', '80', '83', '125', '130', '136', '138', '139', '142', '144', '145', '148', '151', '154', '156', '158']\n"
     ]
    }
   ],
   "source": [
    "empty_values = [key for key, value in meis_neuron_good_ind2.items() if value is None]\n",
    "print(empty_values)"
   ]
  },
  {
   "cell_type": "code",
   "execution_count": 8,
   "id": "51817675",
   "metadata": {},
   "outputs": [
    {
     "name": "stdout",
     "output_type": "stream",
     "text": [
      "(10, 161)\n"
     ]
    }
   ],
   "source": [
    "testccs_VCNN=np.load('out_20220423/Modelcalibration_Prediction_CC_against_prediction_var_testccs_VCNN.npy')\n",
    "print (testccs_VCNN.shape)"
   ]
  },
  {
   "cell_type": "code",
   "execution_count": 9,
   "id": "72052429",
   "metadata": {},
   "outputs": [],
   "source": [
    "thresh = 0.5\n",
    "seed_id=0\n",
    "neuron_qualified=[]\n",
    "for i in range(161):\n",
    "    if str(i) not in empty_values:\n",
    "        if testccs_VCNN[seed_id,i]>=thresh:\n",
    "            neuron_qualified.append(i)     "
   ]
  },
  {
   "cell_type": "code",
   "execution_count": 10,
   "id": "705951ef",
   "metadata": {},
   "outputs": [
    {
     "name": "stdout",
     "output_type": "stream",
     "text": [
      "[14, 20, 23, 28, 35, 41, 48, 49, 50, 52, 54, 55, 56, 61, 77, 78, 91, 95, 97, 98, 101, 103, 104, 106, 110, 113, 114, 122, 123, 126, 128, 129, 131, 132, 133, 141, 146, 147, 153, 160]\n"
     ]
    }
   ],
   "source": [
    "print(neuron_qualified)"
   ]
  },
  {
   "cell_type": "code",
   "execution_count": 11,
   "id": "cd9728d0",
   "metadata": {},
   "outputs": [
    {
     "data": {
      "text/plain": [
       "40"
      ]
     },
     "execution_count": 11,
     "metadata": {},
     "output_type": "execute_result"
    }
   ],
   "source": [
    "len(neuron_qualified)"
   ]
  },
  {
   "cell_type": "code",
   "execution_count": 12,
   "id": "2bc23017",
   "metadata": {},
   "outputs": [],
   "source": [
    "train_std = np.array([0.23363489, 0.24817178])[None,:,None,None]"
   ]
  },
  {
   "cell_type": "code",
   "execution_count": 13,
   "id": "f39f34b0",
   "metadata": {},
   "outputs": [],
   "source": [
    "tempmodels=['VariationalCNN'] \n",
    "model_parameters = {'PI': 0.5, 'SIGMA_1': 1, 'SIGMA_2': 0.00247875}\n",
    "tempmodel = globals()[tempmodels[0]](**model_parameters)\n",
    "neuron_1_response=np.zeros([len(neuron_qualified), 100, 1])\n",
    "neuron_60_response=np.zeros([len(neuron_qualified), len(neuron_qualified)-1, 100, 1])\n",
    "for i in range(len(neuron_qualified)):\n",
    "    temp=meis_neuron_good_ind2[str(neuron_qualified[i])]\n",
    "    tempmei=temp-np.mean(temp, axis=(0,2,3), keepdims=True)\n",
    "    tempmei=tempmei/np.std(tempmei, axis=(0,2,3), keepdims=True)*train_std\n",
    "\n",
    "    torch.manual_seed(1)\n",
    "    torch.cuda.manual_seed(1)\n",
    "    tempmodel.load_state_dict(torch.load('./out_2YQ_Franke2021/VariationalCNN_trainnum_4_Franke2021Data_trainN__'+'seed_'+str(0)+'.pth'))\n",
    "    tempmodel = tempmodel.to(device_cpu) \n",
    "    tempmodel = tempmodel.eval()\n",
    "\n",
    "    tempact=np.zeros((100,1,161))\n",
    "    for j in range(100):\n",
    "        tempact[j] = np.log(tempmodel(torch.from_numpy(tempmei).float(),sampleFlag=True).cpu().data.numpy()) # cancel out the last layer - exp layer\n",
    "    count=0\n",
    "    for k in neuron_qualified:\n",
    "        if k == neuron_qualified[i]:\n",
    "            neuron_1_response[i]=tempact[:,:,k]\n",
    "        else:\n",
    "            neuron_60_response[i][count]=tempact[:,:,k]\n",
    "            count+=1\n",
    "np.save('out_20220423/MEIinput_activation_seed1_61neurons_1response2.npy', neuron_1_response)\n",
    "np.save('out_20220423/MEIinput_activation_seed1_61neurons_60response2.npy', neuron_60_response)"
   ]
  },
  {
   "cell_type": "code",
   "execution_count": null,
   "id": "ac5cc608",
   "metadata": {},
   "outputs": [],
   "source": []
  },
  {
   "cell_type": "markdown",
   "id": "a90b442f",
   "metadata": {},
   "source": [
    "#### permutation test and plot"
   ]
  },
  {
   "cell_type": "code",
   "execution_count": 50,
   "id": "ba242055",
   "metadata": {},
   "outputs": [
    {
     "name": "stdout",
     "output_type": "stream",
     "text": [
      "Shape of test responses: (40, 100, 1)\n",
      "Shape of control responses: (40, 39, 100, 1)\n"
     ]
    }
   ],
   "source": [
    "neuron_1_response=np.load('out_20220423/MEIinput_activation_seed1_61neurons_1response2.npy')\n",
    "neuron_60_response=np.load('out_20220423/MEIinput_activation_seed1_61neurons_60response2.npy')\n",
    "print(f'Shape of test responses: {neuron_1_response.shape}')\n",
    "print(f'Shape of control responses: {neuron_60_response.shape}')"
   ]
  },
  {
   "cell_type": "code",
   "execution_count": 51,
   "id": "ccb00187",
   "metadata": {},
   "outputs": [],
   "source": [
    "# mean_each_stimulus = np.mean(neuron_60_response, axis=(2,3))\n",
    "# sti_ind_most = np.argmax(mean_each_stimulus, axis=1)\n",
    "# print (sti_ind_most)\n",
    "# neuron_60_response_most = np.zeros_like(neuron_1_response)\n",
    "# for ii in range(len(neuron_60_response_most)):\n",
    "#     neuron_60_response_most[ii] = neuron_60_response[ii, sti_ind_most[ii]]"
   ]
  },
  {
   "cell_type": "code",
   "execution_count": 52,
   "id": "1c3b11d1",
   "metadata": {},
   "outputs": [],
   "source": [
    "# #permutation test\n",
    "# #https://stackoverflow.com/questions/24795535/pythons-implementation-of-permutation-test-with-permutation-number-as-input\n",
    "# #permutation test using monte-carlo method\n",
    "# def perm_test(xs, ys, nmc, randomseed):\n",
    "#     n, k = len(xs), 0\n",
    "#     diff = np.abs(np.mean(xs) - np.mean(ys))\n",
    "#     zs = np.concatenate([xs, ys])\n",
    "#     for j in range(nmc):\n",
    "#         np.random.seed(randomseed+j)\n",
    "#         np.random.shuffle(zs)\n",
    "#         k += diff < np.abs(np.mean(zs[:n]) - np.mean(zs[n:]))\n",
    "#     return k / nmc\n",
    "# def perm_test_group(list_of_array,nmc=10000,randomseed=66):\n",
    "#     perm_res=[]\n",
    "#     for ii in np.arange(len(list_of_array)):\n",
    "#         for jj in np.arange(ii+1,len(list_of_array)):\n",
    "#             temp=perm_test(list_of_array[ii], list_of_array[jj], nmc, (ii*jj+jj+randomseed)*nmc)\n",
    "#             perm_res.append(temp)\n",
    "#     return perm_res\n",
    "# #\n",
    "# pvalues = -np.ones(len(neuron_1_response))\n",
    "# for ii in range(len(pvalues)):\n",
    "#     pvalues[ii] = perm_test(neuron_1_response[ii].flatten(),neuron_60_response[ii].flatten(),nmc=10000,randomseed=66)"
   ]
  },
  {
   "cell_type": "code",
   "execution_count": 53,
   "id": "52da8026",
   "metadata": {},
   "outputs": [],
   "source": [
    "# fig, ax = plt.subplots(figsize=(3,3))\n",
    "# ax.scatter(np.mean(neuron_1_response, axis=(1,2)),\n",
    "#            np.mean(neuron_60_response_most, axis=(1,2)),  marker='o', color='g')\n",
    "# ax.plot([0,10], [0,10], color='k',linestyle='--')\n",
    "# ax.set_xlim(0,10)\n",
    "# ax.set_ylim(0,10)"
   ]
  },
  {
   "cell_type": "code",
   "execution_count": null,
   "id": "43e32802",
   "metadata": {},
   "outputs": [],
   "source": []
  },
  {
   "cell_type": "code",
   "execution_count": 54,
   "id": "38ea37c7",
   "metadata": {},
   "outputs": [],
   "source": [
    "response_2d = -10*np.ones((len(neuron_1_response), len(neuron_1_response)))\n",
    "for ii in range(len(response_2d)): # for each neuron\n",
    "    response_2d[ii] = np.insert(np.mean(neuron_60_response[ii], axis=(1,2)), ii, np.mean(neuron_1_response[ii]))\n",
    "response_2d = response_2d/np.max(response_2d, axis=1, keepdims=True)"
   ]
  },
  {
   "cell_type": "code",
   "execution_count": 90,
   "id": "3a23ef05",
   "metadata": {},
   "outputs": [
    {
     "data": {
      "image/png": "[encoded data removed]",
      "text/plain": [
       "<Figure size 216x216 with 2 Axes>"
      ]
     },
     "metadata": {
      "needs_background": "light"
     },
     "output_type": "display_data"
    }
   ],
   "source": [
    "fig, ax = plt.subplots(figsize=(3,3))\n",
    "# cax = fig.add_axes([1.01, 0.2, 0.05, 0.5])\n",
    "im = ax.imshow(response_2d, vmin=0.8, vmax=1, cmap='gray')\n",
    "ax.set_xlabel('Verified MEIs')\n",
    "ax.set_ylabel('Neurons')\n",
    "ax.set_xticks([0, 10, 20, 30])\n",
    "ax.set_yticks([0, 10, 20, 30])\n",
    "# fig.colorbar(im, cax=cax, orientation='vertical')\n",
    "\n",
    "fig.subplots_adjust(right=0.8)\n",
    "cbar_ax = fig.add_axes([0.85, 0.3, 0.03, 0.5])\n",
    "fig.colorbar(im, cax=cbar_ax)\n",
    "handles, labels = ax.get_legend_handles_labels()\n",
    "lgd = ax.legend(handles, labels, loc='center left', bbox_to_anchor=(1, 0.5))\n",
    "# fig.savefig('out_result_20220423/try_normalized_response_matrix.svg',bbox_extra_artists=(lgd,), bbox_inches='tight')"
   ]
  },
  {
   "cell_type": "code",
   "execution_count": 84,
   "id": "2612a4c2",
   "metadata": {},
   "outputs": [
    {
     "data": {
      "text/plain": [
       "37"
      ]
     },
     "execution_count": 84,
     "metadata": {},
     "output_type": "execute_result"
    }
   ],
   "source": [
    "len(np.where(np.diag(response_2d)>=0.8)[0])"
   ]
  },
  {
   "cell_type": "code",
   "execution_count": 57,
   "id": "ef1083d5",
   "metadata": {},
   "outputs": [
    {
     "data": {
      "text/plain": [
       "(array([  6.,  14.,  32., 140., 337., 470., 305., 162.,  46.,  88.]),\n",
       " array([-1.69637775, -1.42673997, -1.1571022 , -0.88746442, -0.61782665,\n",
       "        -0.34818887, -0.0785511 ,  0.19108668,  0.46072445,  0.73036223,\n",
       "         1.        ]),\n",
       " <BarContainer object of 10 artists>)"
      ]
     },
     "execution_count": 57,
     "metadata": {},
     "output_type": "execute_result"
    },
    {
     "data": {
      "image/png": "[encoded data removed]",
      "text/plain": [
       "<Figure size 432x288 with 1 Axes>"
      ]
     },
     "metadata": {
      "needs_background": "light"
     },
     "output_type": "display_data"
    }
   ],
   "source": [
    "plt.hist(response_2d.flatten())"
   ]
  },
  {
   "cell_type": "code",
   "execution_count": null,
   "id": "ec5a4ed6",
   "metadata": {},
   "outputs": [],
   "source": []
  }
 ],
 "metadata": {
  "kernelspec": {
   "display_name": "Python 3 (ipykernel)",
   "language": "python",
   "name": "python3"
  },
  "language_info": {
   "codemirror_mode": {
    "name": "ipython",
    "version": 3
   },
   "file_extension": ".py",
   "mimetype": "text/x-python",
   "name": "python",
   "nbconvert_exporter": "python",
   "pygments_lexer": "ipython3",
   "version": "3.8.0"
  }
 },
 "nbformat": 4,
 "nbformat_minor": 5
}
